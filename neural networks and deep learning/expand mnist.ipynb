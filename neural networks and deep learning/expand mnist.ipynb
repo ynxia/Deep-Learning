{
 "cells": [
  {
   "cell_type": "code",
   "execution_count": null,
   "metadata": {
    "collapsed": true
   },
   "outputs": [],
   "source": [
    "\"\"\"\n",
    "将MNIST的数据集进行扩增并保存在mnist_expanded.pkl.gz中\n",
    "\"\"\"\n",
    "#__future__用于兼容python2的语法\n",
    "from __future__ import print_function\n",
    "import cPickle\n",
    "import gzip\n",
    "import os.path\n",
    "import random\n",
    "import numpy as np\n",
    "\n",
    "print(\"Expanding the MNIST training set\")\n",
    "\n",
    "if os.path.exists(\"../data/mnist_expanded.pkl.gz\"):\n",
    "    print(\"The expanded training set already exists.  Exiting.\")\n",
    "else:\n",
    "    f = gzip.open(\"../data/mnist.pkl.gz\", 'rb')\n",
    "    training_data, validation_data, test_data = cPickle.load(f)\n",
    "    f.close()\n",
    "    expanded_training_pairs = []\n",
    "    j = 0 # counter\n",
    "    for x, y in zip(training_data[0], training_data[1]):\n",
    "        expanded_training_pairs.append((x, y))\n",
    "        image = np.reshape(x, (-1, 28))\n",
    "        j += 1\n",
    "        if j % 1000 == 0: print(\"Expanding image number\", j)\n",
    "        # iterate over data telling us the details of how to\n",
    "        # do the displacement\n",
    "        for d, axis, index_position, index in [\n",
    "                (1,  0, \"first\", 0),\n",
    "                (-1, 0, \"first\", 27),\n",
    "                (1,  1, \"last\",  0),\n",
    "                (-1, 1, \"last\",  27)]:\n",
    "            new_img = np.roll(image, d, axis)\n",
    "            if index_position == \"first\": \n",
    "                new_img[index, :] = np.zeros(28)\n",
    "            else: \n",
    "                new_img[:, index] = np.zeros(28)\n",
    "            expanded_training_pairs.append((np.reshape(new_img, 784), y))\n",
    "    random.shuffle(expanded_training_pairs)\n",
    "    expanded_training_data = [list(d) for d in zip(*expanded_training_pairs)]\n",
    "    print(\"Saving expanded data. This may take a few minutes.\")\n",
    "    f = gzip.open(\"../data/mnist_expanded.pkl.gz\", \"w\")\n",
    "    cPickle.dump((expanded_training_data, validation_data, test_data), f)\n",
    "    f.close()"
   ]
  }
 ],
 "metadata": {
  "kernelspec": {
   "display_name": "Python 3",
   "language": "python",
   "name": "python3"
  },
  "language_info": {
   "codemirror_mode": {
    "name": "ipython",
    "version": 3
   },
   "file_extension": ".py",
   "mimetype": "text/x-python",
   "name": "python",
   "nbconvert_exporter": "python",
   "pygments_lexer": "ipython3",
   "version": "3.5.4"
  }
 },
 "nbformat": 4,
 "nbformat_minor": 2
}
